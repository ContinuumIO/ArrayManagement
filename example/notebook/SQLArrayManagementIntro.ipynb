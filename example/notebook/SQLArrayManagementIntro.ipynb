{
 "metadata": {
  "name": "",
  "signature": "sha256:8a82fafb5fcc09ff3b2666ccf5641d82af57f251dc6edd334ea1a18ffb60525e"
 },
 "nbformat": 3,
 "nbformat_minor": 0,
 "worksheets": [
  {
   "cells": [
    {
     "cell_type": "markdown",
     "metadata": {
      "slideshow": {
       "slide_type": "slide"
      }
     },
     "source": [
      "##ArrayManagement"
     ]
    },
    {
     "cell_type": "markdown",
     "metadata": {
      "slideshow": {
       "slide_type": "slide"
      }
     },
     "source": [
      " - automatic way of constructing python objects from standard data sources:\n",
      " - flat files\n",
      " - csvs\n",
      " - hdf5\n",
      " - **sql queries** \n",
      " - Data Souce is a url addressable path identifier for each object -- filesystem path\n",
      " - Objects are returned as an NumPy array or Pandas DataFrame"
     ]
    },
    {
     "cell_type": "markdown",
     "metadata": {
      "slideshow": {
       "slide_type": "slide"
      }
     },
     "source": [
      "Example uses a two table sqlite DB: **data.db**\n",
      "\n",
      " - stocks:\n",
      "  - 4 columns: end, start, id, ticker\n",
      " - stock_hist:\n",
      "  - 6 columns: day, Open, High, Low, Close, Volume, id"
     ]
    },
    {
     "cell_type": "code",
     "collapsed": false,
     "input": [
      "import sqlite3\n",
      "conn = sqlite3.connect('../datalib/data.db')\n",
      "cursor = conn.cursor()\n",
      "\n",
      "print cursor.execute('SELECT * FROM STOCKS LIMIT 3').fetchall()\n",
      "print cursor.execute('SELECT * FROM STOCK_HIST LIMIT 3').fetchall()"
     ],
     "language": "python",
     "metadata": {
      "slideshow": {
       "slide_type": "slide"
      }
     },
     "outputs": [
      {
       "output_type": "stream",
       "stream": "stdout",
       "text": [
        "[(u'2013-08-09 00:00:00', u'1999-11-19 00:00:00', 0, u'A'), (u'2013-08-09 00:00:00', u'1998-01-05 00:00:00', 1, u'AA'), (u'2013-08-09 00:00:00', u'1998-01-05 00:00:00', 2, u'AAPL')]\n",
        "[(u'1999-11-19 00:00:00', 39.8329, 39.8885, 36.9293, 37.6251, 11390201.185999999, 0), (u'1999-11-22 00:00:00', 38.3208, 40.0091, 37.1613, 39.9442, 4654716.47499999, 0), (u'1999-11-23 00:00:00', 39.4247, 40.4729, 37.3375, 37.5138, 4268902.728999999, 0)]\n"
       ]
      }
     ],
     "prompt_number": 1
    },
    {
     "cell_type": "markdown",
     "metadata": {
      "slideshow": {
       "slide_type": "slide"
      }
     },
     "source": [
      "##Pandas DataFrame"
     ]
    },
    {
     "cell_type": "code",
     "collapsed": false,
     "input": [
      "import pandas.io.sql as psql\n",
      "psql.read_frame('SELECT * FROM STOCKS LIMIT 3',conn)"
     ],
     "language": "python",
     "metadata": {
      "slideshow": {
       "slide_type": "fragment"
      }
     },
     "outputs": [
      {
       "html": [
        "<div style=\"max-height:1000px;max-width:1500px;overflow:auto;\">\n",
        "<table border=\"1\" class=\"dataframe\">\n",
        "  <thead>\n",
        "    <tr style=\"text-align: right;\">\n",
        "      <th></th>\n",
        "      <th>max_date</th>\n",
        "      <th>min_date</th>\n",
        "      <th>sec_id</th>\n",
        "      <th>ticker</th>\n",
        "    </tr>\n",
        "  </thead>\n",
        "  <tbody>\n",
        "    <tr>\n",
        "      <th>0</th>\n",
        "      <td> 2013-08-09 00:00:00</td>\n",
        "      <td> 1999-11-19 00:00:00</td>\n",
        "      <td> 0</td>\n",
        "      <td>    A</td>\n",
        "    </tr>\n",
        "    <tr>\n",
        "      <th>1</th>\n",
        "      <td> 2013-08-09 00:00:00</td>\n",
        "      <td> 1998-01-05 00:00:00</td>\n",
        "      <td> 1</td>\n",
        "      <td>   AA</td>\n",
        "    </tr>\n",
        "    <tr>\n",
        "      <th>2</th>\n",
        "      <td> 2013-08-09 00:00:00</td>\n",
        "      <td> 1998-01-05 00:00:00</td>\n",
        "      <td> 2</td>\n",
        "      <td> AAPL</td>\n",
        "    </tr>\n",
        "  </tbody>\n",
        "</table>\n",
        "</div>"
       ],
       "metadata": {},
       "output_type": "pyout",
       "prompt_number": 2,
       "text": [
        "              max_date             min_date  sec_id ticker\n",
        "0  2013-08-09 00:00:00  1999-11-19 00:00:00       0      A\n",
        "1  2013-08-09 00:00:00  1998-01-05 00:00:00       1     AA\n",
        "2  2013-08-09 00:00:00  1998-01-05 00:00:00       2   AAPL"
       ]
      }
     ],
     "prompt_number": 2
    },
    {
     "cell_type": "code",
     "collapsed": false,
     "input": [
      "psql.read_frame('SELECT * FROM STOCK_HIST LIMIT 3',conn)"
     ],
     "language": "python",
     "metadata": {
      "slideshow": {
       "slide_type": "fragment"
      }
     },
     "outputs": [
      {
       "html": [
        "<div style=\"max-height:1000px;max-width:1500px;overflow:auto;\">\n",
        "<table border=\"1\" class=\"dataframe\">\n",
        "  <thead>\n",
        "    <tr style=\"text-align: right;\">\n",
        "      <th></th>\n",
        "      <th>date</th>\n",
        "      <th>o</th>\n",
        "      <th>h</th>\n",
        "      <th>l</th>\n",
        "      <th>c</th>\n",
        "      <th>v</th>\n",
        "      <th>sec_id</th>\n",
        "    </tr>\n",
        "  </thead>\n",
        "  <tbody>\n",
        "    <tr>\n",
        "      <th>0</th>\n",
        "      <td> 1999-11-19 00:00:00</td>\n",
        "      <td> 39.8329</td>\n",
        "      <td> 39.8885</td>\n",
        "      <td> 36.9293</td>\n",
        "      <td> 37.6251</td>\n",
        "      <td> 11390201.186</td>\n",
        "      <td> 0</td>\n",
        "    </tr>\n",
        "    <tr>\n",
        "      <th>1</th>\n",
        "      <td> 1999-11-22 00:00:00</td>\n",
        "      <td> 38.3208</td>\n",
        "      <td> 40.0091</td>\n",
        "      <td> 37.1613</td>\n",
        "      <td> 39.9442</td>\n",
        "      <td>  4654716.475</td>\n",
        "      <td> 0</td>\n",
        "    </tr>\n",
        "    <tr>\n",
        "      <th>2</th>\n",
        "      <td> 1999-11-23 00:00:00</td>\n",
        "      <td> 39.4247</td>\n",
        "      <td> 40.4729</td>\n",
        "      <td> 37.3375</td>\n",
        "      <td> 37.5138</td>\n",
        "      <td>  4268902.729</td>\n",
        "      <td> 0</td>\n",
        "    </tr>\n",
        "  </tbody>\n",
        "</table>\n",
        "</div>"
       ],
       "metadata": {},
       "output_type": "pyout",
       "prompt_number": 3,
       "text": [
        "                  date        o        h        l        c             v  \\\n",
        "0  1999-11-19 00:00:00  39.8329  39.8885  36.9293  37.6251  11390201.186   \n",
        "1  1999-11-22 00:00:00  38.3208  40.0091  37.1613  39.9442   4654716.475   \n",
        "2  1999-11-23 00:00:00  39.4247  40.4729  37.3375  37.5138   4268902.729   \n",
        "\n",
        "   sec_id  \n",
        "0       0  \n",
        "1       0  \n",
        "2       0  "
       ]
      }
     ],
     "prompt_number": 3
    },
    {
     "cell_type": "markdown",
     "metadata": {
      "slideshow": {
       "slide_type": "slide"
      }
     },
     "source": [
      "We can join on sec_id and retrieve EOD data for a given ticker. "
     ]
    },
    {
     "cell_type": "code",
     "collapsed": false,
     "input": [
      "sql = '''select stocks.ticker, stock_hist.c, stock_hist.date \n",
      "from stocks inner join stock_hist on \n",
      "stocks.sec_id = stock_hist.sec_id where stocks.ticker = 'AAPL'\n",
      "'''\n",
      "psql.read_frame(sql,conn).head()"
     ],
     "language": "python",
     "metadata": {
      "slideshow": {
       "slide_type": "fragment"
      }
     },
     "outputs": [
      {
       "html": [
        "<div style=\"max-height:1000px;max-width:1500px;overflow:auto;\">\n",
        "<table border=\"1\" class=\"dataframe\">\n",
        "  <thead>\n",
        "    <tr style=\"text-align: right;\">\n",
        "      <th></th>\n",
        "      <th>ticker</th>\n",
        "      <th>c</th>\n",
        "      <th>date</th>\n",
        "    </tr>\n",
        "  </thead>\n",
        "  <tbody>\n",
        "    <tr>\n",
        "      <th>0</th>\n",
        "      <td> AAPL</td>\n",
        "      <td> 3.89020</td>\n",
        "      <td> 1998-01-05 00:00:00</td>\n",
        "    </tr>\n",
        "    <tr>\n",
        "      <th>1</th>\n",
        "      <td> AAPL</td>\n",
        "      <td> 4.60502</td>\n",
        "      <td> 1998-01-06 00:00:00</td>\n",
        "    </tr>\n",
        "    <tr>\n",
        "      <th>2</th>\n",
        "      <td> AAPL</td>\n",
        "      <td> 4.24032</td>\n",
        "      <td> 1998-01-07 00:00:00</td>\n",
        "    </tr>\n",
        "    <tr>\n",
        "      <th>3</th>\n",
        "      <td> AAPL</td>\n",
        "      <td> 4.39107</td>\n",
        "      <td> 1998-01-08 00:00:00</td>\n",
        "    </tr>\n",
        "    <tr>\n",
        "      <th>4</th>\n",
        "      <td> AAPL</td>\n",
        "      <td> 4.43726</td>\n",
        "      <td> 1998-01-09 00:00:00</td>\n",
        "    </tr>\n",
        "  </tbody>\n",
        "</table>\n",
        "</div>"
       ],
       "metadata": {},
       "output_type": "pyout",
       "prompt_number": 4,
       "text": [
        "  ticker        c                 date\n",
        "0   AAPL  3.89020  1998-01-05 00:00:00\n",
        "1   AAPL  4.60502  1998-01-06 00:00:00\n",
        "2   AAPL  4.24032  1998-01-07 00:00:00\n",
        "3   AAPL  4.39107  1998-01-08 00:00:00\n",
        "4   AAPL  4.43726  1998-01-09 00:00:00"
       ]
      }
     ],
     "prompt_number": 4
    },
    {
     "cell_type": "markdown",
     "metadata": {
      "slideshow": {
       "slide_type": "slide"
      }
     },
     "source": [
      "ArrayMangement tool allows users to leverage a **catalogue** of **partially** described queries. Queries are:\n",
      " \n",
      " - url addressable\n",
      " - cached automatically\n",
      " - can be extended with sqlalchemy and simple markup around query"
     ]
    },
    {
     "cell_type": "code",
     "collapsed": false,
     "input": [
      "from os.path import join, dirname, split, realpath, exists\n",
      "from sqlalchemy.sql import and_, column\n",
      "import pandas as pd\n",
      "import datetime as dt"
     ],
     "language": "python",
     "metadata": {
      "slideshow": {
       "slide_type": "slide"
      }
     },
     "outputs": [],
     "prompt_number": 5
    },
    {
     "cell_type": "code",
     "collapsed": false,
     "input": [
      "from arraymanagement.client import ArrayClient"
     ],
     "language": "python",
     "metadata": {
      "slideshow": {
       "slide_type": "fragment"
      }
     },
     "outputs": [],
     "prompt_number": 6
    },
    {
     "cell_type": "code",
     "collapsed": false,
     "input": [
      "basepath = '../'\n",
      "client = ArrayClient(basepath)"
     ],
     "language": "python",
     "metadata": {
      "slideshow": {
       "slide_type": "fragment"
      }
     },
     "outputs": [],
     "prompt_number": 7
    },
    {
     "cell_type": "markdown",
     "metadata": {
      "slideshow": {
       "slide_type": "fragment"
      }
     },
     "source": [
      "`basepath` defines where catalogue lives"
     ]
    },
    {
     "cell_type": "markdown",
     "metadata": {
      "slideshow": {
       "slide_type": "slide"
      }
     },
     "source": [
      "##SQL with Sprinkles"
     ]
    },
    {
     "cell_type": "markdown",
     "metadata": {
      "slideshow": {
       "slide_type": "fragment"
      }
     },
     "source": [
      "\n",
      "```\n",
      "select stocks.ticker, stock_hist.c, stock_hist.date \n",
      "from stocks inner join stock_hist on \n",
      "stocks.sec_id = stock_hist.sec_id\n",
      "+++\n",
      "date, ticker\n",
      "```"
     ]
    },
    {
     "cell_type": "markdown",
     "metadata": {
      "slideshow": {
       "slide_type": "fragment"
      }
     },
     "source": [
      "`date` and `ticker` define the conditional parameters for the deferred composition of the where clause"
     ]
    },
    {
     "cell_type": "code",
     "collapsed": false,
     "input": [
      "arr = client['/sqlviews/flex_view.fsql']\n",
      "\n",
      "aapl = arr.select(and_(arr.ticker=='AAPL',arr.date >= dt.datetime(1998,1,1), \\\n",
      "                                arr.date <= dt.datetime(1998,12,30)))\n"
     ],
     "language": "python",
     "metadata": {
      "slideshow": {
       "slide_type": "slide"
      }
     },
     "outputs": [
      {
       "output_type": "stream",
       "stream": "stdout",
       "text": [
        "SELECT  * from (select stocks.ticker, stock_hist.c, stock_hist.date from stocks inner join stock_hist on stocks.sec_id = stock_hist.sec_id\n",
        ") as X  \n",
        "WHERE ticker = :ticker_1 AND date >= :date_1 AND date <= :date_2\n"
       ]
      },
      {
       "output_type": "stream",
       "stream": "stderr",
       "text": [
        "/Users/quasiben/anaconda/envs/trqad/lib/python2.7/site-packages/tables/path.py:99: NaturalNameWarning: object name is not a valid Python identifier: 'flex_view.fsql'; it does not match the pattern ``^[a-zA-Z_][a-zA-Z0-9_]*$``; you will not be able to use natural naming to access this object; using ``getattr()`` will still work, though\n",
        "  NaturalNameWarning)\n"
       ]
      }
     ],
     "prompt_number": 8
    },
    {
     "cell_type": "markdown",
     "metadata": {
      "slideshow": {
       "slide_type": "fragment"
      }
     },
     "source": [
      "Attached SQLAlchemy to query\n",
      " \n",
      " - **and_**\n",
      " - **or_**\n",
      " - **in_**\n",
      " - ...\n",
      "\n",
      "Must reference conditional parameters defined in **fsql** file"
     ]
    },
    {
     "cell_type": "markdown",
     "metadata": {
      "slideshow": {
       "slide_type": "slide"
      }
     },
     "source": [
      "##Returned DataFrame"
     ]
    },
    {
     "cell_type": "code",
     "collapsed": false,
     "input": [
      "aapl.head()"
     ],
     "language": "python",
     "metadata": {
      "slideshow": {
       "slide_type": "fragment"
      }
     },
     "outputs": [
      {
       "html": [
        "<div style=\"max-height:1000px;max-width:1500px;overflow:auto;\">\n",
        "<table border=\"1\" class=\"dataframe\">\n",
        "  <thead>\n",
        "    <tr style=\"text-align: right;\">\n",
        "      <th></th>\n",
        "      <th>ticker</th>\n",
        "      <th>c</th>\n",
        "      <th>date</th>\n",
        "    </tr>\n",
        "  </thead>\n",
        "  <tbody>\n",
        "    <tr>\n",
        "      <th>0</th>\n",
        "      <td> AAPL</td>\n",
        "      <td> 3.89020</td>\n",
        "      <td>1998-01-05 00:00:00</td>\n",
        "    </tr>\n",
        "    <tr>\n",
        "      <th>1</th>\n",
        "      <td> AAPL</td>\n",
        "      <td> 4.60502</td>\n",
        "      <td>1998-01-06 00:00:00</td>\n",
        "    </tr>\n",
        "    <tr>\n",
        "      <th>2</th>\n",
        "      <td> AAPL</td>\n",
        "      <td> 4.24032</td>\n",
        "      <td>1998-01-07 00:00:00</td>\n",
        "    </tr>\n",
        "    <tr>\n",
        "      <th>3</th>\n",
        "      <td> AAPL</td>\n",
        "      <td> 4.39107</td>\n",
        "      <td>1998-01-08 00:00:00</td>\n",
        "    </tr>\n",
        "    <tr>\n",
        "      <th>4</th>\n",
        "      <td> AAPL</td>\n",
        "      <td> 4.43726</td>\n",
        "      <td>1998-01-09 00:00:00</td>\n",
        "    </tr>\n",
        "  </tbody>\n",
        "</table>\n",
        "</div>"
       ],
       "metadata": {},
       "output_type": "pyout",
       "prompt_number": 11,
       "text": [
        "  ticker        c                date\n",
        "0   AAPL  3.89020 1998-01-05 00:00:00\n",
        "1   AAPL  4.60502 1998-01-06 00:00:00\n",
        "2   AAPL  4.24032 1998-01-07 00:00:00\n",
        "3   AAPL  4.39107 1998-01-08 00:00:00\n",
        "4   AAPL  4.43726 1998-01-09 00:00:00"
       ]
      }
     ],
     "prompt_number": 11
    },
    {
     "cell_type": "markdown",
     "metadata": {
      "slideshow": {
       "slide_type": "slide"
      }
     },
     "source": [
      "##Under The Covers\n",
      "\n",
      "- Query is executed\n",
      "- Data is cached in HDF5 \n",
      "- Data is loaded into memory"
     ]
    },
    {
     "cell_type": "code",
     "collapsed": false,
     "input": [
      "ls ../sqlviews/.cache"
     ],
     "language": "python",
     "metadata": {
      "slideshow": {
       "slide_type": "fragment"
      }
     },
     "outputs": [
      {
       "output_type": "stream",
       "stream": "stdout",
       "text": [
        "cache_flex_view.fsql.hdf5\r\n"
       ]
      }
     ],
     "prompt_number": 12
    },
    {
     "cell_type": "code",
     "collapsed": false,
     "input": [
      "df = pd.HDFStore('../sqlviews/.cache/cache_flex_view.fsql.hdf5')\n",
      "print df['flex_view.fsql'].head()\n",
      "df.close()"
     ],
     "language": "python",
     "metadata": {
      "slideshow": {
       "slide_type": "fragment"
      }
     },
     "outputs": [
      {
       "output_type": "stream",
       "stream": "stdout",
       "text": [
        "  ticker        c                date\n",
        "0   AAPL  3.89020 1998-01-05 00:00:00\n",
        "1   AAPL  4.60502 1998-01-06 00:00:00\n",
        "2   AAPL  4.24032 1998-01-07 00:00:00\n",
        "3   AAPL  4.39107 1998-01-08 00:00:00\n",
        "4   AAPL  4.43726 1998-01-09 00:00:00\n"
       ]
      }
     ],
     "prompt_number": 22
    },
    {
     "cell_type": "markdown",
     "metadata": {
      "slideshow": {
       "slide_type": "slide"
      }
     },
     "source": [
      "##Query is Cached\n",
      "\n",
      "Re-running query loads the cached data (no new data is fetched)"
     ]
    },
    {
     "cell_type": "code",
     "collapsed": false,
     "input": [
      "aapl = arr.select(and_(arr.ticker=='AAPL',arr.date >= dt.datetime(1998,1,1), \\\n",
      "                                arr.date <= dt.datetime(1998,12,30)))\n",
      "aapl.head()"
     ],
     "language": "python",
     "metadata": {
      "slideshow": {
       "slide_type": "fragment"
      }
     },
     "outputs": [
      {
       "html": [
        "<div style=\"max-height:1000px;max-width:1500px;overflow:auto;\">\n",
        "<table border=\"1\" class=\"dataframe\">\n",
        "  <thead>\n",
        "    <tr style=\"text-align: right;\">\n",
        "      <th></th>\n",
        "      <th>ticker</th>\n",
        "      <th>c</th>\n",
        "      <th>date</th>\n",
        "    </tr>\n",
        "  </thead>\n",
        "  <tbody>\n",
        "    <tr>\n",
        "      <th>0</th>\n",
        "      <td> AAPL</td>\n",
        "      <td> 3.89020</td>\n",
        "      <td>1998-01-05 00:00:00</td>\n",
        "    </tr>\n",
        "    <tr>\n",
        "      <th>1</th>\n",
        "      <td> AAPL</td>\n",
        "      <td> 4.60502</td>\n",
        "      <td>1998-01-06 00:00:00</td>\n",
        "    </tr>\n",
        "    <tr>\n",
        "      <th>2</th>\n",
        "      <td> AAPL</td>\n",
        "      <td> 4.24032</td>\n",
        "      <td>1998-01-07 00:00:00</td>\n",
        "    </tr>\n",
        "    <tr>\n",
        "      <th>3</th>\n",
        "      <td> AAPL</td>\n",
        "      <td> 4.39107</td>\n",
        "      <td>1998-01-08 00:00:00</td>\n",
        "    </tr>\n",
        "    <tr>\n",
        "      <th>4</th>\n",
        "      <td> AAPL</td>\n",
        "      <td> 4.43726</td>\n",
        "      <td>1998-01-09 00:00:00</td>\n",
        "    </tr>\n",
        "  </tbody>\n",
        "</table>\n",
        "</div>"
       ],
       "metadata": {},
       "output_type": "pyout",
       "prompt_number": 20,
       "text": [
        "  ticker        c                date\n",
        "0   AAPL  3.89020 1998-01-05 00:00:00\n",
        "1   AAPL  4.60502 1998-01-06 00:00:00\n",
        "2   AAPL  4.24032 1998-01-07 00:00:00\n",
        "3   AAPL  4.39107 1998-01-08 00:00:00\n",
        "4   AAPL  4.43726 1998-01-09 00:00:00"
       ]
      }
     ],
     "prompt_number": 20
    },
    {
     "cell_type": "markdown",
     "metadata": {
      "slideshow": {
       "slide_type": "slide"
      }
     },
     "source": [
      "##Cache Explained"
     ]
    },
    {
     "cell_type": "code",
     "collapsed": false,
     "input": [
      "df = pd.HDFStore('../sqlviews/.cache/cache_flex_view.fsql.hdf5')\n",
      "print df['/cache_spec']\n",
      "df.close()"
     ],
     "language": "python",
     "metadata": {
      "slideshow": {
       "slide_type": "fragment"
      }
     },
     "outputs": [
      {
       "output_type": "stream",
       "stream": "stdout",
       "text": [
        "   _end_row  _start_row                           hashval\n",
        "0       250           0  d3ea56853ffb0a96b3e79ab5be5c1b32\n"
       ]
      }
     ],
     "prompt_number": 23
    },
    {
     "cell_type": "markdown",
     "metadata": {
      "slideshow": {
       "slide_type": "slide"
      }
     },
     "source": [
      "- hash query\n",
      "- check hash\n",
      "\n",
      "```\n",
      "if hashval matches: \n",
      "    load data \n",
      "else: \n",
      "    fetch new data\n",
      "    create new row in cache_spec table \n",
      "    store new data\n",
      "```\n"
     ]
    },
    {
     "cell_type": "markdown",
     "metadata": {
      "slideshow": {
       "slide_type": "slide"
      }
     },
     "source": [
      "##DateCaching\n",
      "\n",
      "- extends fsql to store date in addition to hash of the query\n",
      "- slightly different calling signature\n",
      "- *.fdsql extenstion"
     ]
    },
    {
     "cell_type": "markdown",
     "metadata": {
      "slideshow": {
       "slide_type": "slide"
      }
     },
     "source": [
      "Select **AAPL** between 2000 and 2003"
     ]
    },
    {
     "cell_type": "code",
     "collapsed": false,
     "input": [
      "arr = client['/sqlviews/flex_view.fdsql']\n",
      "\n",
      "date_1 = dt.datetime(2000,1,1)\n",
      "date_2 = dt.datetime(2003,12,30)\n",
      "aapl = arr.select(and_(arr.ticker=='AAPL'),date_1 = date_1 , date_2 = date_2)\n",
      "print aapl.iloc[0]\n",
      "print aapl.iloc[-1]"
     ],
     "language": "python",
     "metadata": {
      "slideshow": {
       "slide_type": "fragment"
      }
     },
     "outputs": [
      {
       "output_type": "stream",
       "stream": "stdout",
       "text": [
        "ticker                   AAPL\n",
        "c                     27.1852\n",
        "date      2000-01-03 00:00:00\n",
        "Name: 0, dtype: object\n",
        "ticker                   AAPL\n",
        "c                     10.3334\n",
        "date      2003-12-30 00:00:00\n",
        "Name: 1002, dtype: object\n"
       ]
      }
     ],
     "prompt_number": 28
    },
    {
     "cell_type": "markdown",
     "metadata": {
      "slideshow": {
       "slide_type": "slide"
      }
     },
     "source": [
      "Select **AAPL** between 2000 and 2005"
     ]
    },
    {
     "cell_type": "code",
     "collapsed": false,
     "input": [
      "arr = client['/sqlviews/flex_view.fdsql']\n",
      "\n",
      "date_1 = dt.datetime(2000,1,1)\n",
      "date_2 = dt.datetime(2005,12,30)\n",
      "aapl = arr.select(and_(arr.ticker=='AAPL'),date_1 = date_1 , date_2 = date_2)\n",
      "print aapl.iloc[0]\n",
      "print aapl.iloc[-1]"
     ],
     "language": "python",
     "metadata": {},
     "outputs": [
      {
       "output_type": "stream",
       "stream": "stdout",
       "text": [
        "ticker                   AAPL\n",
        "c                     27.1852\n",
        "date      2000-01-03 00:00:00\n",
        "Name: 0, dtype: object\n",
        "ticker                   AAPL\n",
        "c                     69.8582\n",
        "date      2005-12-30 00:00:00\n",
        "Name: 504, dtype: object\n"
       ]
      }
     ],
     "prompt_number": 32
    },
    {
     "cell_type": "markdown",
     "metadata": {
      "slideshow": {
       "slide_type": "slide"
      }
     },
     "source": [
      "##New Cache Inspection"
     ]
    },
    {
     "cell_type": "code",
     "collapsed": false,
     "input": [
      "df = pd.HDFStore('../sqlviews/.cache/cache_flex_view.fdsql.hdf5')\n",
      "print df['/cache_spec']\n",
      "df.close()"
     ],
     "language": "python",
     "metadata": {
      "slideshow": {
       "slide_type": "fragment"
      }
     },
     "outputs": [
      {
       "output_type": "stream",
       "stream": "stdout",
       "text": [
        "   _end_row  _start_row            end_date                           hashval  \\\n",
        "0      1003           0 2003-12-30 00:00:00  67919f3df58da53e8208abe2da7282a1   \n",
        "0      1508        1003 2005-12-30 00:00:00  67919f3df58da53e8208abe2da7282a1   \n",
        "\n",
        "           start_date  \n",
        "0 2000-01-01 00:00:00  \n",
        "0 2003-12-30 00:00:00  \n"
       ]
      }
     ],
     "prompt_number": 33
    },
    {
     "cell_type": "markdown",
     "metadata": {
      "slideshow": {
       "slide_type": "slide"
      }
     },
     "source": [
      "Compose new query which subselect between 2000 and 2005"
     ]
    },
    {
     "cell_type": "code",
     "collapsed": false,
     "input": [
      "arr = client['/sqlviews/flex_view.fdsql']\n",
      "\n",
      "date_1 = dt.datetime(2003,1,1)\n",
      "date_2 = dt.datetime(2004,12,30)\n",
      "aapl = arr.select(and_(arr.ticker=='AAPL'),date_1 = date_1 , date_2 = date_2)\n",
      "print aapl.iloc[0]\n",
      "print aapl.iloc[-1]"
     ],
     "language": "python",
     "metadata": {
      "slideshow": {
       "slide_type": "fragment"
      }
     },
     "outputs": [
      {
       "output_type": "stream",
       "stream": "stdout",
       "text": [
        "ticker                   AAPL\n",
        "c                     7.20173\n",
        "date      2003-01-02 00:00:00\n",
        "Name: 752, dtype: object\n",
        "ticker                   AAPL\n",
        "c                     10.3334\n",
        "date      2003-12-30 00:00:00\n",
        "Name: 1002, dtype: object\n"
       ]
      }
     ],
     "prompt_number": 34
    }
   ],
   "metadata": {}
  }
 ]
}